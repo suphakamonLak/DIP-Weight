{
 "cells": [
  {
   "cell_type": "code",
   "execution_count": null,
   "metadata": {},
   "outputs": [],
   "source": [
    "from IPython import display\n",
    "import ultralytics\n",
    "from ultralytics import YOLO\n",
    "import cv2\n",
    "\n",
    "display.clear_output()\n",
    "ultralytics.checks()# ใช้ตรวจสอบและตั้งค่าเบื้องต้นสำหรับการใช้งานไลบรารีนี้"
   ]
  },
  {
   "cell_type": "code",
   "execution_count": null,
   "metadata": {},
   "outputs": [],
   "source": [
    "# ใช้ weight ของตัวเอง\n",
    "model = YOLO('./runs/segment/train8/weights/best.pt')"
   ]
  },
  {
   "cell_type": "code",
   "execution_count": null,
   "metadata": {},
   "outputs": [],
   "source": [
    "# save รูปที่ได้จากการ test ทีละรูป\n",
    "from IPython import display\n",
    "import ultralytics\n",
    "from ultralytics import YOLO\n",
    "import cv2\n",
    "import matplotlib.pyplot as plt\n",
    "%matplotlib inline\n",
    "\n",
    "img = cv2.imread(\"D:/Train project/General-Test/dataset/test/images/0a2b2630-sock_89.jpg\")\n",
    "\n",
    "result = model.predict(source=img, conf = 0.5) \n",
    "\n",
    "result[0].save(filename = 'result.jpg')# save image\n",
    "img2 = cv2.imread('result.jpg')# read file\n",
    "\n",
    "frame = cv2.hconcat([img,img2])\n",
    "cv2.imwrite('img.jpg', frame)# save img comparison\n",
    "\n",
    "frame = cv2.cvtColor(frame, cv2.COLOR_BGR2RGB)\n",
    "plt.imshow(frame)\n",
    "\n",
    "# result[0].show() "
   ]
  },
  {
   "cell_type": "code",
   "execution_count": null,
   "metadata": {},
   "outputs": [],
   "source": [
    "import os\n",
    "import cv2\n",
    "import matplotlib as plt\n",
    "%matplotlib inline\n",
    "\n",
    "# path img\n",
    "dir_imgs_test = 'D:/Train project/General-Test/dataset/test/images'\n",
    "dir_imgs_output = \"D:/Train project/General-Test/results-train/wegiht-100-epochs/results\"\n",
    "dir_imgs_comparison = \"D:/Train project/General-Test/results-train/wegiht-100-epochs/results-comparison\"\n",
    "\n",
    "# loop img every file in folder\n",
    "for img_file in os.listdir(dir_imgs_test):\n",
    "\n",
    "    # กำหนด parth ของรูปภาพที่อ่านและจะบันทึก\n",
    "    input_img = os.path.join(dir_imgs_test, img_file)\n",
    "    output_img = os.path.join(dir_imgs_output, f\"result_{img_file}\")\n",
    "    output_imgcomparison = os.path.join(dir_imgs_comparison, f\"comparison_{img_file}\")\n",
    "    \n",
    "    img1 = cv2.imread(input_img)\n",
    "    \n",
    "    results = model.predict(img1)# ทำนาย\n",
    "    results[0].save(output_img)\n",
    "    img2 = cv2.imread(output_img)# อ่านรูปภาพที่ได้จากการทำนายมาเก็บไว้ใน img2\n",
    "    \n",
    "    # เปรียบเทียบผลลัพธ์ก่อนทำนายกับหลังทำนาย\n",
    "    frame = cv2.hconcat([img1, img2])\n",
    "    cv2.imwrite(output_imgcomparison, frame)\n",
    "    "
   ]
  },
  {
   "cell_type": "code",
   "execution_count": null,
   "metadata": {},
   "outputs": [],
   "source": [
    "# bounding box object\n",
    "for r in result:\n",
    "    print(\"box,r.boxes.shape\")\n",
    "    for box in r.boxes:\n",
    "        class_id=r.names[box.cls[0].item()]\n",
    "        print(class_id)\n",
    "        cords=box.xyxy[0].tolist()\n",
    "        cords=[round(x) for x in cords]\n",
    "        conf = round(box.conf[0].item(),2)\n",
    "        print(cords,\"เชื่อกี่เปอร์เซ็นต์\",conf)\n",
    "        img=cv2.rectangle(img,(cords[0],cords[1],cords[2],cords[3]),(255,255,0),2)\n",
    "    print(\"mask\",len(r.masks))\n",
    "    mask=r.masks\n",
    "    if(mask!=None):\n",
    "        for i in range(len(r[0].masks.xy)):\n",
    "            x=mask.xy[i].astype(int)\n",
    "            print(x)\n",
    "            pts=x.reshape((-1,1,2))\n",
    "            img=cv2.polylines(img,[pts],isClosed=True,color=(0,0,255),thickness=2)\n",
    "cv2.imshow(\"Result\",img)\n",
    "cv2.waitKey()\n",
    "cv2.destroyAllWindows()"
   ]
  }
 ],
 "metadata": {
  "kernelspec": {
   "display_name": "test_yolo",
   "language": "python",
   "name": "python3"
  },
  "language_info": {
   "name": "python",
   "version": "3.11.7"
  }
 },
 "nbformat": 4,
 "nbformat_minor": 2
}
