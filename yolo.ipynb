{
 "cells": [
  {
   "cell_type": "code",
   "execution_count": 1,
   "metadata": {},
   "outputs": [],
   "source": [
    "from IPython import display\n",
    "import ultralytics\n",
    "from ultralytics import YOLO\n",
    "import cv2\n",
    "import matplotlib.pyplot as plt\n",
    "%matplotlib inline"
   ]
  },
  {
   "cell_type": "code",
   "execution_count": 2,
   "metadata": {},
   "outputs": [
    {
     "name": "stdout",
     "output_type": "stream",
     "text": [
      "Ultralytics YOLOv8.2.99  Python-3.11.7 torch-2.2.0+cpu CPU (AMD Ryzen 7 5825U with Radeon Graphics)\n",
      "Setup complete  (16 CPUs, 15.3 GB RAM, 48.0/238.0 GB disk)\n"
     ]
    }
   ],
   "source": [
    "display.clear_output()\n",
    "ultralytics.checks()"
   ]
  },
  {
   "cell_type": "code",
   "execution_count": 13,
   "metadata": {},
   "outputs": [
    {
     "name": "stdout",
     "output_type": "stream",
     "text": [
      "Transferred 417/417 items from pretrained weights\n"
     ]
    }
   ],
   "source": [
    "model = YOLO(\"yolov8n-seg.yaml\").load(\"yolov8n-seg.pt\")"
   ]
  },
  {
   "cell_type": "code",
   "execution_count": 3,
   "metadata": {},
   "outputs": [],
   "source": [
    "model = YOLO('./runs/segment/train7/weights/best.pt')"
   ]
  },
  {
   "cell_type": "code",
   "execution_count": null,
   "metadata": {},
   "outputs": [],
   "source": [
    "# freeze 10 layers\n",
    "freeze = 0\n",
    "\n",
    "freeze = [f'model.{x}.' for x in range(freeze)] # สร้างลิสต์ของชื่อเลเยอร์ที่ต้องการล็อค\n",
    "for k, v in model.named_parameters(): # วนลูปผ่านทุกพารามิเตอร์ในโมเดล\n",
    "    \n",
    "    # เช็คว่าชื่อของพารามิเตอร์ (k) มีคำว่า model.{x}. ใด ๆ ในลิสต์ freeze หรือไม่\n",
    "    if any(x in k for x in freeze):\n",
    "        print(f'freezing {k}')\n",
    "        v.requires_grad = False # ปิดการอัปเดตน้ำหนักของเลเยอร์นั้น\n",
    "    else:\n",
    "        print(f'unfreeze {k}')\n",
    "        v.requires_grad = True"
   ]
  },
  {
   "cell_type": "code",
   "execution_count": 7,
   "metadata": {},
   "outputs": [],
   "source": [
    "import torch\n",
    "\n",
    "optimizer = torch.optim.SGD(\n",
    "    filter(lambda p: p.requires_grad, model.parameters()), # เลือกพารามิเตอร์ของโมเดลที่ไม่ได้ล็อค เพื่อ update ค่า weight\n",
    "    lr=1e-4,\n",
    "    momentum=0.9 \n",
    ")"
   ]
  },
  {
   "cell_type": "code",
   "execution_count": null,
   "metadata": {},
   "outputs": [],
   "source": [
    "# train model\n",
    "result = model.train(\n",
    "    batch=-1,\n",
    "    device=\"cpu\",\n",
    "    data=\"./setting.yaml\",\n",
    "    epochs=100,\n",
    "    imgsz=640,\n",
    "    cache=True\n",
    ")"
   ]
  },
  {
   "cell_type": "code",
   "execution_count": null,
   "metadata": {},
   "outputs": [],
   "source": [
    "# train model ต่อจากที่หยุด\n",
    "model = YOLO('./runs/segment/train7/weights/last.pt')\n",
    "results = model.train(resume = True)"
   ]
  },
  {
   "cell_type": "code",
   "execution_count": null,
   "metadata": {},
   "outputs": [],
   "source": [
    "# load model\n",
    "model = YOLO('./runs/segment/train8/weights/best.pt')\n",
    "\n",
    "# แปลงโมเดลเป็น ncnn\n",
    "model.export(format=\"ncnn\")"
   ]
  },
  {
   "cell_type": "code",
   "execution_count": null,
   "metadata": {},
   "outputs": [],
   "source": [
    "# Use Raspberry Pi Camera\n",
    "\n",
    "rpicam-hello # test camera\n",
    "\n",
    "# Inference with Camera\n",
    "import cv2\n",
    "from picamera2 import Picamera2\n",
    "\n",
    "from ultralytics import YOLO\n",
    "\n",
    "# Initialize the Picamera2\n",
    "picam2 = Picamera2()\n",
    "picam2.preview_configuration.main.size = (1280, 720)\n",
    "picam2.preview_configuration.main.format = \"RGB888\"\n",
    "picam2.preview_configuration.align()\n",
    "picam2.configure(\"preview\")\n",
    "picam2.start()\n",
    "\n",
    "# Load the YOLO11 model\n",
    "model = YOLO(\"yolo11n.pt\")\n",
    "\n",
    "while True:\n",
    "    # Capture frame-by-frame\n",
    "    frame = picam2.capture_array()\n",
    "\n",
    "    # Run YOLO11 inference on the frame\n",
    "    results = model(frame)\n",
    "\n",
    "    # Visualize the results on the frame\n",
    "    annotated_frame = results[0].plot()\n",
    "\n",
    "    # Display the resulting frame\n",
    "    cv2.imshow(\"Camera\", annotated_frame)\n",
    "\n",
    "    # Break the loop if 'q' is pressed\n",
    "    if cv2.waitKey(1) == ord(\"q\"):\n",
    "        break\n",
    "\n",
    "# Release resources and close windows\n",
    "cv2.destroyAllWindows()"
   ]
  }
 ],
 "metadata": {
  "kernelspec": {
   "display_name": "test_yolo",
   "language": "python",
   "name": "python3"
  },
  "language_info": {
   "codemirror_mode": {
    "name": "ipython",
    "version": 3
   },
   "file_extension": ".py",
   "mimetype": "text/x-python",
   "name": "python",
   "nbconvert_exporter": "python",
   "pygments_lexer": "ipython3",
   "version": "3.11.7"
  }
 },
 "nbformat": 4,
 "nbformat_minor": 2
}
